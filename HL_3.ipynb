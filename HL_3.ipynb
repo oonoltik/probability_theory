{
 "cells": [
  {
   "cell_type": "markdown",
   "metadata": {},
   "source": [
    "1. # 1. Даны значения зарплат из выборки выпускников: 100, 80, 75, 77, 89, 33, 45, 25, 65, 17, 30, 24, 57, 55, 70, 75, 65, 84, 90, 150.\n",
    "# Посчитать (желательно без использования статистических методов наподобие std, var, mean)\n",
    "# среднее арифметическое, среднее квадратичное отклонение, смещенную и несмещенную оценки дисперсий для данной выборки."
   ]
  },
  {
   "cell_type": "markdown",
   "metadata": {},
   "source": [
    "Применяем Формулу Бернули"
   ]
  },
  {
   "cell_type": "code",
   "execution_count": 25,
   "metadata": {},
   "outputs": [],
   "source": [
    "salaries = [100, 80, 75, 77, 89, 33, 45, 25, 65, 17, 30, 24, 57, 55, 70, 75, 65, 84, 90, 150]\n"
   ]
  },
  {
   "cell_type": "code",
   "execution_count": 26,
   "metadata": {},
   "outputs": [],
   "source": [
    "#Сортируем по возрастанию\n",
    "salaries = sorted(salaries)\n"
   ]
  },
  {
   "cell_type": "code",
   "execution_count": 27,
   "metadata": {},
   "outputs": [
    {
     "name": "stdout",
     "output_type": "stream",
     "text": [
      "Среднее арифметическое 65.3\n"
     ]
    }
   ],
   "source": [
    "# Среднее арифметическое\n",
    "arith_mean = sum(salaries)/len(salaries)\n",
    "print('Среднее арифметическое',arith_mean)"
   ]
  },
  {
   "cell_type": "code",
   "execution_count": 28,
   "metadata": {},
   "outputs": [],
   "source": [
    "# Среднее квадратическое\n",
    "squar_sum = 0\n",
    "for i in salaries:\n",
    "    squar_sum = squar_sum + (i - arith_mean) ** 2"
   ]
  },
  {
   "cell_type": "code",
   "execution_count": 29,
   "metadata": {
    "scrolled": true
   },
   "outputs": [
    {
     "name": "stdout",
     "output_type": "stream",
     "text": [
      "Среднее квадратическое 30.823854398825596\n"
     ]
    }
   ],
   "source": [
    "import math\n",
    "\n",
    "mean_square = math.sqrt(squar_sum/len(salaries))\n",
    "print('Среднее квадратическое',mean_square)"
   ]
  },
  {
   "cell_type": "code",
   "execution_count": 30,
   "metadata": {},
   "outputs": [
    {
     "name": "stdout",
     "output_type": "stream",
     "text": [
      "смещенную  оценка дисперсии 950.11\n"
     ]
    }
   ],
   "source": [
    "# смещенную  оценка дисперсии\n",
    "\n",
    "variance = squar_sum / len(salaries)\n",
    "print('смещенную  оценка дисперсии',variance)"
   ]
  },
  {
   "cell_type": "code",
   "execution_count": 31,
   "metadata": {},
   "outputs": [
    {
     "name": "stdout",
     "output_type": "stream",
     "text": [
      "несмещенную  оценка дисперсии 1000.1157894736842\n"
     ]
    }
   ],
   "source": [
    "# несмещенную  оценка дисперсии\n",
    "\n",
    "variance_unbiased = squar_sum / (len(salaries) -1)\n",
    "print('несмещенную  оценка дисперсии',variance_unbiased)"
   ]
  },
  {
   "cell_type": "markdown",
   "metadata": {},
   "source": [
    "# 2. В первом ящике находится 8 мячей, из которых 5 - белые. Во втором ящике - 12 мячей, из которых 5 белых.\n",
    "# Из первого ящика вытаскивают случайным образом два мяча, из второго - 4. Какова вероятность того, что 3 мяча белые?"
   ]
  },
  {
   "cell_type": "markdown",
   "metadata": {},
   "source": []
  },
  {
   "cell_type": "code",
   "execution_count": 32,
   "metadata": {},
   "outputs": [],
   "source": [
    "def combinations(n, k):\n",
    "    return int(factorial(n) / (factorial(k) * factorial(n - k)))"
   ]
  },
  {
   "cell_type": "code",
   "execution_count": 33,
   "metadata": {},
   "outputs": [
    {
     "name": "stdout",
     "output_type": "stream",
     "text": [
      "Ответ на вторую задачу: 0.5124458874458875\n"
     ]
    }
   ],
   "source": [
    "otvet_2 = 5/8 * 4/7 * 5/12 + 4/11\n",
    "print('Ответ на вторую задачу:',otvet_2)"
   ]
  },
  {
   "cell_type": "markdown",
   "metadata": {},
   "source": [
    "# 3. На соревновании по биатлону один из трех спортсменов стреляет и попадает в мишень.\n",
    "# Вероятность попадания для первого спортсмена равна 0.9, для второго — 0.8, для третьего — 0.6.\n",
    "# Найти вероятность того, что выстрел произведен: a). первым спортсменом б). вторым спортсменом в). третьим спортсменом."
   ]
  },
  {
   "cell_type": "code",
   "execution_count": 34,
   "metadata": {},
   "outputs": [],
   "source": [
    "# Вероятность попадания в мишень каждым спортсменом равновероятны:\n",
    "p_strelok_1 = 1/3\n",
    "p_strelok_2 = 1/3\n",
    "p_strelok_3 = 1/3\n",
    "\n",
    "r_a_1 = 0.9\n",
    "r_a_2 = 0.8\n",
    "r_a_3 = 0.6"
   ]
  },
  {
   "cell_type": "code",
   "execution_count": 35,
   "metadata": {},
   "outputs": [],
   "source": [
    "#По формуле полной вероятности вероятность того, что мишень будет поражена равна\n",
    "r = p_strelok_1 * r_a_1 + p_strelok_2 * r_a_2 + p_strelok_3 * r_a_3"
   ]
  },
  {
   "cell_type": "code",
   "execution_count": 36,
   "metadata": {},
   "outputs": [
    {
     "name": "stdout",
     "output_type": "stream",
     "text": [
      "Ответ на третью задачу: 0.391304347826087 0.3478260869565218 0.2608695652173913\n"
     ]
    }
   ],
   "source": [
    "# По формуле Байеса, вероятность того, что по мишени выстрелил  спортсмены, равна:\n",
    "r_1 = (p_strelok_1 * r_a_1) / r\n",
    "r_2 = (p_strelok_2 * r_a_2) / r\n",
    "r_3 = (p_strelok_3 * r_a_3) / r\n",
    "\n",
    "print('Ответ на третью задачу:',r_1, r_2, r_3)"
   ]
  },
  {
   "cell_type": "code",
   "execution_count": null,
   "metadata": {},
   "outputs": [],
   "source": []
  },
  {
   "cell_type": "markdown",
   "metadata": {},
   "source": [
    "# 4. В университет на факультеты A и B поступило равное количество студентов, а на факультет C студентов поступило столько же,\n",
    "# сколько на A и B вместе. Вероятность того, что студент факультета A сдаст первую сессию, равна 0.8.\n",
    "# Для студента факультета B эта вероятность равна 0.7, а для студента факультета C - 0.9. Студент сдал первую сессию.\n",
    "# Какова вероятность, что он учится: a). на факультете A б). на факультете B в). на факультете C?"
   ]
  },
  {
   "cell_type": "code",
   "execution_count": 37,
   "metadata": {},
   "outputs": [
    {
     "name": "stdout",
     "output_type": "stream",
     "text": [
      "Ответ на четвертую задачу: 0.24242424242424246 0.21212121212121213 0.5454545454545455\n"
     ]
    }
   ],
   "source": [
    "# по условиям задачи\n",
    "p_a = 0.25\n",
    "p_b = 0.25\n",
    "p_c = 0.5\n",
    "\n",
    "r_a = 0.8\n",
    "r_b = 0.7\n",
    "r_c = 0.9\n",
    "#По формуле полной вероятности вероятность того, что студент сдаст сессию равна:\n",
    "\n",
    "r = p_a * r_a + p_b * r_b + p_c * r_c\n",
    "\n",
    "# По формуле Байеса, вероятность того, что что Студент учится: a). на факультете A б). на факультете B в). на факультете C?, равна:\n",
    "r_a = (p_a * r_a) / r\n",
    "r_b = (p_b * r_b) / r\n",
    "r_c = (p_c * r_c) / r\n",
    "\n",
    "print('Ответ на четвертую задачу:',r_a, r_b, r_c)"
   ]
  },
  {
   "cell_type": "markdown",
   "metadata": {},
   "source": [
    "# 5.Устройство состоит из трех деталей.\n",
    "# Для первой детали вероятность выйти из строя в первый месяц равна 0.1, для второй - 0.2, для третьей - 0.25.\n",
    "# Какова вероятность того, что в первый месяц выйдут из строя: а). все детали б). только две детали в). хотя бы одна деталь г). от одной до двух деталей?"
   ]
  },
  {
   "cell_type": "code",
   "execution_count": 38,
   "metadata": {},
   "outputs": [],
   "source": [
    "p_1 = 0.1\n",
    "p_2 = 0.2\n",
    "p_3 = 0.25\n",
    "\n",
    "q_1 = 1 - p_1\n",
    "q_2 = 1 - p_2\n",
    "q_3 = 1 - p_3"
   ]
  },
  {
   "cell_type": "code",
   "execution_count": 39,
   "metadata": {},
   "outputs": [
    {
     "name": "stdout",
     "output_type": "stream",
     "text": [
      "Ответ на пятую задачу, п. а : 0.005000000000000001\n"
     ]
    }
   ],
   "source": [
    "# а) все детали вышли из строя:\n",
    "\n",
    "x_a = p_1 * p_2 * p_3\n",
    "print('Ответ на пятую задачу, п. а :',x_a)"
   ]
  },
  {
   "cell_type": "code",
   "execution_count": 40,
   "metadata": {},
   "outputs": [
    {
     "name": "stdout",
     "output_type": "stream",
     "text": [
      "Ответ на пятую задачу, п. b : 0.08000000000000002\n"
     ]
    }
   ],
   "source": [
    "# б) только две детали вышли из строя:\n",
    "\n",
    "x_b = p_1 * p_2 * q_3 + p_1 * q_2 * p_3 + q_1 * p_2 * p_3\n",
    "\n",
    "print('Ответ на пятую задачу, п. b :',x_b)"
   ]
  },
  {
   "cell_type": "code",
   "execution_count": 41,
   "metadata": {},
   "outputs": [
    {
     "name": "stdout",
     "output_type": "stream",
     "text": [
      "Ответ на пятую задачу, п. c : 0.45999999999999996\n"
     ]
    }
   ],
   "source": [
    "# в) хотя бы одна деталь вышли из строя:\n",
    "x_с = 1 - (q_1 * q_2 * q_3)\n",
    "print('Ответ на пятую задачу, п. c :',x_с)"
   ]
  },
  {
   "cell_type": "code",
   "execution_count": 42,
   "metadata": {},
   "outputs": [
    {
     "name": "stdout",
     "output_type": "stream",
     "text": [
      "Ответ на пятую задачу, п. d : 0.455\n"
     ]
    }
   ],
   "source": [
    "# г) от одной до двух деталей вышли из строя:\n",
    "\n",
    "# можно представить как сумму несовместных событий X2 = (За смену выйдут из строя 2 детали) и X1 = (За смену выйдут из строя 1 деталь)\n",
    "x2 = p_1 * p_2 * q_3 + p_1 * q_2 * p_3 + q_1 * p_2 * p_3\n",
    "x1 = p_1 * q_2 * q_3 + q_1 * p_2 * q_3 + q_1 * q_2 * p_3\n",
    "\n",
    "x_d = x2+x1\n",
    "print('Ответ на пятую задачу, п. d :',x_d)"
   ]
  },
  {
   "cell_type": "code",
   "execution_count": null,
   "metadata": {},
   "outputs": [],
   "source": []
  },
  {
   "cell_type": "code",
   "execution_count": null,
   "metadata": {},
   "outputs": [],
   "source": []
  }
 ],
 "metadata": {
  "kernelspec": {
   "display_name": "Python 3",
   "language": "python",
   "name": "python3"
  },
  "language_info": {
   "codemirror_mode": {
    "name": "ipython",
    "version": 3
   },
   "file_extension": ".py",
   "mimetype": "text/x-python",
   "name": "python",
   "nbconvert_exporter": "python",
   "pygments_lexer": "ipython3",
   "version": "3.7.7"
  }
 },
 "nbformat": 4,
 "nbformat_minor": 4
}
